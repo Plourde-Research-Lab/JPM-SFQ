{
 "cells": [
  {
   "cell_type": "markdown",
   "metadata": {
    "toc": true
   },
   "source": [
    "<h1>Table of Contents<span class=\"tocSkip\"></span></h1>\n",
    "<div class=\"toc\" style=\"margin-top: 1em;\"><ul class=\"toc-item\"><li><span><a href=\"#Soloviev/Kuzmin\" data-toc-modified-id=\"Soloviev/Kuzmin-1\">Soloviev/Kuzmin</a></span><ul class=\"toc-item\"><li><span><a href=\"#Symmetrical-Josephson-vortex-interferometer-as-an-advanced-ballistic-single-shot-detector---APL-2014\" data-toc-modified-id=\"Symmetrical-Josephson-vortex-interferometer-as-an-advanced-ballistic-single-shot-detector---APL-2014-1.1\">Symmetrical Josephson vortex interferometer as an advanced ballistic single-shot detector - APL 2014</a></span></li></ul></li></ul></div>"
   ]
  },
  {
   "cell_type": "markdown",
   "metadata": {},
   "source": [
    "# Imports\n"
   ]
  },
  {
   "cell_type": "code",
   "execution_count": 12,
   "metadata": {
    "ExecuteTime": {
     "end_time": "2018-02-09T17:42:18.745305Z",
     "start_time": "2018-02-09T17:42:18.732115Z"
    }
   },
   "outputs": [
    {
     "data": {
      "text/html": [
       "<script>requirejs.config({paths: { 'plotly': ['https://cdn.plot.ly/plotly-latest.min']},});if(!window.Plotly) {{require(['plotly'],function(plotly) {window.Plotly=plotly;});}}</script>"
      ],
      "text/vnd.plotly.v1+html": [
       "<script>requirejs.config({paths: { 'plotly': ['https://cdn.plot.ly/plotly-latest.min']},});if(!window.Plotly) {{require(['plotly'],function(plotly) {window.Plotly=plotly;});}}</script>"
      ]
     },
     "metadata": {},
     "output_type": "display_data"
    }
   ],
   "source": [
    "import sys\n",
    "sys.path.append('/mnt/labshare/Programs/python/HelperFunctions/')\n",
    "from plottingFunctions import *\n",
    "\n",
    "init_notebook_mode(connected=True)\n",
    "from IPython.display import JSON, Image\n",
    "from scipy.ndimage import gaussian_filter1d\n",
    "from scipy.signal import find_peaks_cwt, argrelmin, butter, lfilter \n",
    "from peakutils import peak\n",
    "from scipy.constants import h, e, hbar\n",
    "from scipy import optimize\n",
    "\n",
    "from subprocess import call\n",
    "\n",
    "from sympy import plot_implicit, symbols, Eq, solve, sin, nsolve\n",
    "\n",
    "import json"
   ]
  },
  {
   "cell_type": "markdown",
   "metadata": {},
   "source": [
    "# Lit Review"
   ]
  },
  {
   "cell_type": "markdown",
   "metadata": {},
   "source": [
    "## Soloviev/Kuzmin \n",
    "\n",
    "### Symmetrical Josephson vortex interferometer as an advanced ballistic single-shot detector - APL 2014\n",
    "\n",
    "It appears that the main drawbacks in its operation come from relativistic effects of the fluxon dynamics. In the experiment,the authors used single annular JTL coupled to the qubit instead of a couple, measuring deviation of the fluxon rotation frequency. The measurement results show that this deviation does not depend on the measured magnetic field orientation (the current dipole polarity). The qualitative explanation is that the relativistic fluxon characteristic size becomes much smaller than the dipole length due to Lorenz contraction. Therefore, the total contribution of the successive scatterings at the dipole poles to the frequency shift is independent on the order of the poles. Since the fluxon being inside the coupling loop induces circulating current affecting the qubit, the contraction additionally enhance the back-action. While slow fluxon is obviously preferred to gain the time response, the corresponding bias current, acting as the fluxon driving force, appears to be unreasonable for the experiment."
   ]
  },
  {
   "cell_type": "markdown",
   "metadata": {},
   "source": [
    "# JTL Class\n",
    "\n",
    "Need to define a class to store/compute relevent properties of a JTL given design parameters. Also want to output a .cir file.\n",
    "\n",
    "Input parameters: \n",
    "\n",
    "- $I_c$ - Critical Current ($\\mu$A)\n",
    "- $L$ - JTL Inductance (pH)\n",
    "- $C$ - Junction capactiance (fF)\n",
    "- $a$ - Cell Size ($\\mu$m)\n",
    "- $w$ - Inductor width ($\\mu$m)\n",
    "- $t_i$ - Gap between ground and inductor ($\\mu$m)\n",
    "- $d$ - Electrode thickness ($\\mu$m)\n",
    "- $n$ - Number of JTL cells\n",
    "\n",
    "Computed parameters:\n",
    "\n",
    "- $\\lambda_J$ - $\\sqrt{L_j/L}$ - Josephson length (cells)\n",
    "- $\\omega_p$ - $\\sqrt{2eI_c/\\hbar C}$ - $c/\\lambda_J$ - Plasma frequency\n",
    "- $\\beta^2$ - $(4e^2/\\hbar)\\sqrt{\\frac{L}{C}}$ - Wave resistance/impedance\n",
    "- $c$ - $1/\\sqrt{LC}$ - Swihart Velocity (speed of wave) (cells/s)\n",
    "- $m$ - $(2\\hbar/e)^{3/2}\\sqrt{I_c L}C$ - Mass of soliton\n",
    "- $\\epsilon$ - $$ - Energy of soliton"
   ]
  },
  {
   "cell_type": "code",
   "execution_count": 72,
   "metadata": {
    "ExecuteTime": {
     "end_time": "2018-02-09T20:31:01.587949Z",
     "start_time": "2018-02-09T20:31:01.514074Z"
    }
   },
   "outputs": [],
   "source": [
    "phi0 = h/2/e\n",
    "\n",
    "class UJTL:\n",
    "    \n",
    "    def __init__(self, params):\n",
    "        self.params = params\n",
    "        \n",
    "        # Electrical Properties\n",
    "        self.Ic = params['Ic']\n",
    "        self.L = params['L']\n",
    "        self.C = params['C']\n",
    "        \n",
    "        \n",
    "        # Physical Properties\n",
    "        self.a = params['a']\n",
    "        self.w = params['w']\n",
    "        self.ti = params['ti']\n",
    "        self.d = params['d']\n",
    "        self.n = params['n']\n",
    "        \n",
    "        \n",
    "        \n",
    "    # Dependent Properties\n",
    "    \n",
    "    @property\n",
    "    def lambda_j(self):\n",
    "        return np.sqrt(hbar/(2*e*self.Ic*self.L))\n",
    "    \n",
    "    @property\n",
    "    def wp(self):\n",
    "        return self.c/self.lambda_j\n",
    "    \n",
    "    @property    \n",
    "    def beta2(self):\n",
    "        return (4*e**2/hbar)*np.sqrt(self.L/self.C)\n",
    "    \n",
    "    @property    \n",
    "    def c(self):\n",
    "        return 1/np.sqrt(self.L*self.C)\n",
    "    \n",
    "    @property    \n",
    "    def m(self):\n",
    "        return (2*hbar/e)**(3/2)*np.sqrt(self.Ic*self.L)*self.C\n",
    "    \n",
    "    @property    \n",
    "    def eps(self):\n",
    "        return (e**2*self.C)(self.lambda_j/4)\n",
    "    \n",
    "    @property\n",
    "    def u(self):\n",
    "        return self.c(self.beta**2 * self.lambda_j/8)\n",
    "    # Methods\n",
    "    \n",
    "    def pscan_units(self):\n",
    "        \n",
    "        pass"
   ]
  },
  {
   "cell_type": "code",
   "execution_count": 74,
   "metadata": {
    "ExecuteTime": {
     "end_time": "2018-02-09T20:31:05.458932Z",
     "start_time": "2018-02-09T20:31:05.454305Z"
    }
   },
   "outputs": [],
   "source": [
    "params = {\n",
    "    'Ic': 7e-6,\n",
    "    'L': 4e-12,\n",
    "    'C': 4e-15,\n",
    "    \n",
    "    'a': 10e-6,\n",
    "    'w': 2e-6,\n",
    "    'ti': .1e-6,\n",
    "    'd': .1e-6,\n",
    "    'n': 20\n",
    "}\n",
    "\n",
    "jtl = UJTL(params) "
   ]
  },
  {
   "cell_type": "code",
   "execution_count": 75,
   "metadata": {
    "ExecuteTime": {
     "end_time": "2018-02-09T20:31:05.638656Z",
     "start_time": "2018-02-09T20:31:05.635309Z"
    }
   },
   "outputs": [
    {
     "data": {
      "text/plain": [
       "3.4283793324635514"
      ]
     },
     "execution_count": 75,
     "metadata": {},
     "output_type": "execute_result"
    }
   ],
   "source": [
    "jtl.lambda_j"
   ]
  },
  {
   "cell_type": "code",
   "execution_count": 76,
   "metadata": {
    "ExecuteTime": {
     "end_time": "2018-02-09T20:31:05.847070Z",
     "start_time": "2018-02-09T20:31:05.843917Z"
    }
   },
   "outputs": [
    {
     "data": {
      "text/plain": [
       "0.030789640476528865"
      ]
     },
     "execution_count": 76,
     "metadata": {},
     "output_type": "execute_result"
    }
   ],
   "source": [
    "jtl.beta2"
   ]
  },
  {
   "cell_type": "code",
   "execution_count": 69,
   "metadata": {
    "ExecuteTime": {
     "end_time": "2018-02-09T20:25:21.715168Z",
     "start_time": "2018-02-09T20:25:21.711723Z"
    }
   },
   "outputs": [
    {
     "data": {
      "text/plain": [
       "7e-06"
      ]
     },
     "execution_count": 69,
     "metadata": {},
     "output_type": "execute_result"
    }
   ],
   "source": [
    "jtl.Ic"
   ]
  },
  {
   "cell_type": "code",
   "execution_count": 70,
   "metadata": {
    "ExecuteTime": {
     "end_time": "2018-02-09T20:26:25.229080Z",
     "start_time": "2018-02-09T20:26:25.224858Z"
    }
   },
   "outputs": [
    {
     "data": {
      "text/plain": [
       "7.068583470577034e-06"
      ]
     },
     "execution_count": 70,
     "metadata": {},
     "output_type": "execute_result"
    }
   ],
   "source": [
    "(10*1e3)/(.01)**2 * (np.pi*0.15e-6**2)"
   ]
  },
  {
   "cell_type": "code",
   "execution_count": null,
   "metadata": {},
   "outputs": [],
   "source": []
  },
  {
   "cell_type": "markdown",
   "metadata": {},
   "source": [
    "# JPM Class\n",
    "\n",
    "Input parameters: \n",
    "\n",
    "- $I_c$ - Critical Current ($\\mu$A)\n",
    "- $L$ - JTL Inductance (pH)\n",
    "- $C$ - Junction capactiance (fF)\n",
    "- $d$ - Dipole Size / Gradiometer size ($\\mu$m)\n",
    "- $$\n",
    "\n",
    "Computed parameters:\n",
    "\n",
    "- $\\beta_L$\n",
    "\n"
   ]
  },
  {
   "cell_type": "code",
   "execution_count": null,
   "metadata": {},
   "outputs": [],
   "source": []
  }
 ],
 "metadata": {
  "kernelspec": {
   "display_name": "Python 3",
   "language": "python",
   "name": "python3"
  },
  "language_info": {
   "codemirror_mode": {
    "name": "ipython",
    "version": 3
   },
   "file_extension": ".py",
   "mimetype": "text/x-python",
   "name": "python",
   "nbconvert_exporter": "python",
   "pygments_lexer": "ipython3",
   "version": "3.6.0"
  },
  "toc": {
   "nav_menu": {},
   "number_sections": false,
   "sideBar": true,
   "skip_h1_title": true,
   "toc_cell": true,
   "toc_position": {
    "height": "677px",
    "left": "0px",
    "right": "1228px",
    "top": "110px",
    "width": "212px"
   },
   "toc_section_display": "block",
   "toc_window_display": true
  },
  "varInspector": {
   "cols": {
    "lenName": 16,
    "lenType": 16,
    "lenVar": 40
   },
   "kernels_config": {
    "python": {
     "delete_cmd_postfix": "",
     "delete_cmd_prefix": "del ",
     "library": "var_list.py",
     "varRefreshCmd": "print(var_dic_list())"
    },
    "r": {
     "delete_cmd_postfix": ") ",
     "delete_cmd_prefix": "rm(",
     "library": "var_list.r",
     "varRefreshCmd": "cat(var_dic_list()) "
    }
   },
   "types_to_exclude": [
    "module",
    "function",
    "builtin_function_or_method",
    "instance",
    "_Feature"
   ],
   "window_display": false
  }
 },
 "nbformat": 4,
 "nbformat_minor": 2
}
