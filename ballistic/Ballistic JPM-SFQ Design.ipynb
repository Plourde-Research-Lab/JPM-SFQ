{
 "cells": [
  {
   "cell_type": "markdown",
   "metadata": {
    "toc": true
   },
   "source": [
    "<h1>Table of Contents<span class=\"tocSkip\"></span></h1>\n",
    "<div class=\"toc\" style=\"margin-top: 1em;\"><ul class=\"toc-item\"><li><span><a href=\"#Soloviev/Kuzmin\" data-toc-modified-id=\"Soloviev/Kuzmin-1\">Soloviev/Kuzmin</a></span><ul class=\"toc-item\"><li><span><a href=\"#Symmetrical-Josephson-vortex-interferometer-as-an-advanced-ballistic-single-shot-detector---APL-2014\" data-toc-modified-id=\"Symmetrical-Josephson-vortex-interferometer-as-an-advanced-ballistic-single-shot-detector---APL-2014-1.1\">Symmetrical Josephson vortex interferometer as an advanced ballistic single-shot detector - APL 2014</a></span></li></ul></li></ul></div>"
   ]
  },
  {
   "cell_type": "markdown",
   "metadata": {},
   "source": [
    "# Imports\n"
   ]
  },
  {
   "cell_type": "code",
   "execution_count": 2,
   "metadata": {
    "ExecuteTime": {
     "end_time": "2018-02-14T08:50:56.436464Z",
     "start_time": "2018-02-14T08:50:54.930202Z"
    }
   },
   "outputs": [
    {
     "data": {
      "text/html": [
       "<script>requirejs.config({paths: { 'plotly': ['https://cdn.plot.ly/plotly-latest.min']},});if(!window.Plotly) {{require(['plotly'],function(plotly) {window.Plotly=plotly;});}}</script>"
      ],
      "text/vnd.plotly.v1+html": [
       "<script>requirejs.config({paths: { 'plotly': ['https://cdn.plot.ly/plotly-latest.min']},});if(!window.Plotly) {{require(['plotly'],function(plotly) {window.Plotly=plotly;});}}</script>"
      ]
     },
     "metadata": {},
     "output_type": "display_data"
    }
   ],
   "source": [
    "import sys\n",
    "sys.path.append('/Users/caleb/Development/HelperFunctions/')\n",
    "from plottingFunctions import *\n",
    "\n",
    "init_notebook_mode(connected=True)\n",
    "from IPython.display import JSON, Image\n",
    "from scipy.ndimage import gaussian_filter1d\n",
    "from scipy.signal import find_peaks_cwt, argrelmin, butter, lfilter \n",
    "from scipy.constants import h, e, hbar\n",
    "from scipy import optimize\n",
    "\n",
    "from subprocess import call\n",
    "\n",
    "from sympy import plot_implicit, symbols, Eq, solve, sin, nsolve\n",
    "\n",
    "import json"
   ]
  },
  {
   "cell_type": "markdown",
   "metadata": {},
   "source": [
    "# Lit Review"
   ]
  },
  {
   "cell_type": "markdown",
   "metadata": {},
   "source": [
    "## Soloviev/Kuzmin \n",
    "\n",
    "### Symmetrical Josephson vortex interferometer as an advanced ballistic single-shot detector - APL 2014\n",
    "\n",
    "It appears that the main drawbacks in its operation come from relativistic effects of the fluxon dynamics. In the experiment,the authors used single annular JTL coupled to the qubit instead of a couple, measuring deviation of the fluxon rotation frequency. The measurement results show that this deviation does not depend on the measured magnetic field orientation (the current dipole polarity). The qualitative explanation is that the relativistic fluxon characteristic size becomes much smaller than the dipole length due to Lorenz contraction. Therefore, the total contribution of the successive scatterings at the dipole poles to the frequency shift is independent on the order of the poles. Since the fluxon being inside the coupling loop induces circulating current affecting the qubit, the contraction additionally enhance the back-action. While slow fluxon is obviously preferred to gain the time response, the corresponding bias current, acting as the fluxon driving force, appears to be unreasonable for the experiment."
   ]
  },
  {
   "cell_type": "markdown",
   "metadata": {},
   "source": [
    "# JTL Class\n",
    "\n",
    "Need to define a class to store/compute relevent properties of a JTL given design parameters. Also want to output a .cir file.\n",
    "\n",
    "Input parameters: \n",
    "\n",
    "- $I_c$ - Critical Current ($\\mu$A)\n",
    "- $L$ - JTL Inductance (pH)\n",
    "- $C$ - Junction capactiance (fF)\n",
    "- $a$ - Cell Size ($\\mu$m)\n",
    "- $w$ - Inductor width ($\\mu$m)\n",
    "- $t_i$ - Gap between ground and inductor ($\\mu$m)\n",
    "- $d$ - Electrode thickness ($\\mu$m)\n",
    "- $n$ - Number of JTL cells\n",
    "\n",
    "Computed parameters:\n",
    "\n",
    "- $\\lambda_J$ - $\\sqrt{L_j/L}$ - Josephson length (cells)\n",
    "- $\\omega_p$ - $\\sqrt{2eI_c/\\hbar C}$ - $c/\\lambda_J$ - Plasma frequency\n",
    "- $\\beta^2$ - $(4e^2/\\hbar)\\sqrt{\\frac{L}{C}}$ - Wave resistance/impedance\n",
    "- $c$ - $1/\\sqrt{LC}$ - Swihart Velocity (speed of wave) (cells/s)\n",
    "- $m$ - $(2\\hbar/e)^{3/2}\\sqrt{I_c L}C$ - Mass of soliton\n",
    "- $\\epsilon$ - $$ - Energy of soliton"
   ]
  },
  {
   "cell_type": "code",
   "execution_count": 3,
   "metadata": {
    "ExecuteTime": {
     "end_time": "2018-02-14T08:51:00.261161Z",
     "start_time": "2018-02-14T08:51:00.195277Z"
    }
   },
   "outputs": [],
   "source": [
    "phi0 = h/2/e\n",
    "\n",
    "class UJTL:\n",
    "    \n",
    "    def __init__(self, params):\n",
    "        self.params = params\n",
    "        \n",
    "        # Electrical Properties\n",
    "        self.Ic = params['Ic']\n",
    "        self.L = params['L']\n",
    "        self.C = params['C']\n",
    "        \n",
    "        \n",
    "        # Physical Properties\n",
    "        self.a = params['a']\n",
    "        self.w = params['w']\n",
    "        self.ti = params['ti']\n",
    "        self.d = params['d']\n",
    "        self.n = params['n']\n",
    "        \n",
    "        \n",
    "        \n",
    "    # Dependent Properties\n",
    "    \n",
    "    @property\n",
    "    def lambda_j(self):\n",
    "        return np.sqrt(hbar/(2*e*self.Ic*self.L))\n",
    "    \n",
    "    @property\n",
    "    def wp(self):\n",
    "        return self.c/self.lambda_j\n",
    "    \n",
    "    @property    \n",
    "    def beta2(self):\n",
    "        return (4*e**2/hbar)*np.sqrt(self.L/self.C)\n",
    "    \n",
    "    @property    \n",
    "    def c(self):\n",
    "        return 1/np.sqrt(self.L*self.C)\n",
    "    \n",
    "    @property    \n",
    "    def m(self):\n",
    "        return (2*hbar/e)**(3/2)*np.sqrt(self.Ic*self.L)*self.C\n",
    "    \n",
    "    @property    \n",
    "    def eps(self):\n",
    "        return (e**2*self.C)(self.lambda_j/4)\n",
    "    \n",
    "    @property\n",
    "    def u(self):\n",
    "        return self.c(self.beta**2 * self.lambda_j/8)\n",
    "    # Methods\n",
    "    \n",
    "    def pscan_units(self):\n",
    "        \n",
    "        pass"
   ]
  },
  {
   "cell_type": "code",
   "execution_count": 4,
   "metadata": {
    "ExecuteTime": {
     "end_time": "2018-02-14T08:51:01.375835Z",
     "start_time": "2018-02-14T08:51:01.368016Z"
    }
   },
   "outputs": [],
   "source": [
    "params = {\n",
    "    'Ic': 7e-6,\n",
    "    'L': 4e-12,\n",
    "    'C': 4e-15,\n",
    "    \n",
    "    'a': 10e-6,\n",
    "    'w': 2e-6,\n",
    "    'ti': .1e-6,\n",
    "    'd': .1e-6,\n",
    "    'n': 20\n",
    "}\n",
    "\n",
    "jtl = UJTL(params) "
   ]
  },
  {
   "cell_type": "code",
   "execution_count": 5,
   "metadata": {
    "ExecuteTime": {
     "end_time": "2018-02-14T08:51:01.626531Z",
     "start_time": "2018-02-14T08:51:01.600940Z"
    }
   },
   "outputs": [
    {
     "data": {
      "text/plain": [
       "3.4283793324635514"
      ]
     },
     "execution_count": 5,
     "metadata": {},
     "output_type": "execute_result"
    }
   ],
   "source": [
    "jtl.lambda_j"
   ]
  },
  {
   "cell_type": "code",
   "execution_count": 6,
   "metadata": {
    "ExecuteTime": {
     "end_time": "2018-02-14T08:51:02.643376Z",
     "start_time": "2018-02-14T08:51:02.636898Z"
    }
   },
   "outputs": [
    {
     "data": {
      "text/plain": [
       "0.030789640476528865"
      ]
     },
     "execution_count": 6,
     "metadata": {},
     "output_type": "execute_result"
    }
   ],
   "source": [
    "jtl.beta2"
   ]
  },
  {
   "cell_type": "code",
   "execution_count": 7,
   "metadata": {
    "ExecuteTime": {
     "end_time": "2018-02-14T08:51:03.455031Z",
     "start_time": "2018-02-14T08:51:03.449763Z"
    }
   },
   "outputs": [
    {
     "data": {
      "text/plain": [
       "7e-06"
      ]
     },
     "execution_count": 7,
     "metadata": {},
     "output_type": "execute_result"
    }
   ],
   "source": [
    "jtl.Ic"
   ]
  },
  {
   "cell_type": "code",
   "execution_count": 8,
   "metadata": {
    "ExecuteTime": {
     "end_time": "2018-02-14T08:51:05.495438Z",
     "start_time": "2018-02-14T08:51:05.489809Z"
    }
   },
   "outputs": [
    {
     "data": {
      "text/plain": [
       "7.068583470577034e-06"
      ]
     },
     "execution_count": 8,
     "metadata": {},
     "output_type": "execute_result"
    }
   ],
   "source": [
    "(10*1e3)/(.01)**2 * (np.pi*0.15e-6**2)"
   ]
  },
  {
   "cell_type": "code",
   "execution_count": null,
   "metadata": {},
   "outputs": [],
   "source": []
  },
  {
   "cell_type": "markdown",
   "metadata": {},
   "source": [
    "# JPM Class\n",
    "\n",
    "Input parameters: \n",
    "\n",
    "- $I_c$ - Critical Current ($\\mu$A)\n",
    "- $L_g$ - Gradiometer Inductance\n",
    "- $L_b$ - Flux bias Inductance\n",
    "- $M_b$ - Flux bias mutual\n",
    "- $L_{JTL}$ - JTL Inductance\n",
    "- $M_{JTL}$ - JTL mutual\n",
    "- $C$ - Shunt Capacitance (pF)\n",
    "- $d$ - Dipole Size / Gradiometer size ($\\mu$m)\n",
    "- $\\tan{\\delta} = 1/Q$ - Loss Tangent\n",
    "\n",
    "Computed parameters:\n",
    "\n",
    "- $L$ - Total JPM Inductance (pH)\n",
    "- $\\beta_L$ \n",
    "- $f_{01}$ - Max JPM Frequency (GHz)\n",
    "- $T_1$ - $1/(\\delta \\omega_{01})$ - Decay rate of JPM (ns)\n"
   ]
  },
  {
   "cell_type": "code",
   "execution_count": 64,
   "metadata": {
    "ExecuteTime": {
     "end_time": "2018-02-14T10:09:50.599188Z",
     "start_time": "2018-02-14T10:09:50.570248Z"
    }
   },
   "outputs": [],
   "source": [
    "class JPM:\n",
    "    \n",
    "    def __init__(self, params):\n",
    "        \n",
    "        self.__dict__.update(params)\n",
    "        \n",
    "        \n",
    "    @property\n",
    "    def L(self):\n",
    "        return self.Lg\n",
    "    \n",
    "    @property\n",
    "    def C(self):\n",
    "        return self.Cs\n",
    "    \n",
    "    @property\n",
    "    def R(self):\n",
    "        return 1/(self.tand * self.w01 * self.Cs)\n",
    "    \n",
    "    @property\n",
    "    def betaL(self):\n",
    "        # L_rf / L_J\n",
    "        return self.L * self.Ic * 2 * np.pi / phi0\n",
    "    \n",
    "    @property\n",
    "    def w01(self):\n",
    "        return np.sqrt((1 + self.betaL)/(self.L * self.C))\n",
    "    \n",
    "    @property\n",
    "    def f01(self):\n",
    "        return self.w01/2/np.pi\n",
    "    \n",
    "    def freqs(self, fluxes):\n",
    "        return np.sqrt((1 + self.betaL*np.cos(fluxes))/(self.L * self.C)) / 2 / np.pi\n",
    "       \n",
    "    @property\n",
    "    def T1(self):\n",
    "        return 1/(self.tand * 2 * np.pi * self.f01)"
   ]
  },
  {
   "cell_type": "code",
   "execution_count": 109,
   "metadata": {
    "ExecuteTime": {
     "end_time": "2018-02-14T10:24:40.668355Z",
     "start_time": "2018-02-14T10:24:40.660003Z"
    }
   },
   "outputs": [],
   "source": [
    "testparams = {\n",
    "    'Ic': 1e-6,\n",
    "    'Lg': 1.5e-9,\n",
    "    'Lb': 10e-12,\n",
    "    'Mb': 17e-12,\n",
    "    'Ljtl': 80e-12,\n",
    "    'Mjtl': 500e-12,\n",
    "    'Cs': 2.5e-12,\n",
    "    'd': 35e-6,\n",
    "    'tand': 3e-3,\n",
    "    'C_load': [1e-15, 3e-15]\n",
    "}\n",
    "\n",
    "jpm = JPM(testparams)"
   ]
  },
  {
   "cell_type": "code",
   "execution_count": 110,
   "metadata": {
    "ExecuteTime": {
     "end_time": "2018-02-14T10:24:40.894539Z",
     "start_time": "2018-02-14T10:24:40.887715Z"
    }
   },
   "outputs": [
    {
     "data": {
      "text/plain": [
       "6.1271152307812446"
      ]
     },
     "execution_count": 110,
     "metadata": {},
     "output_type": "execute_result"
    }
   ],
   "source": [
    "jpm.f01 * 1e-9"
   ]
  },
  {
   "cell_type": "code",
   "execution_count": 111,
   "metadata": {
    "ExecuteTime": {
     "end_time": "2018-02-14T10:24:42.334416Z",
     "start_time": "2018-02-14T10:24:42.329194Z"
    }
   },
   "outputs": [
    {
     "data": {
      "text/plain": [
       "4.55780238174959"
      ]
     },
     "execution_count": 111,
     "metadata": {},
     "output_type": "execute_result"
    }
   ],
   "source": [
    "jpm.betaL"
   ]
  },
  {
   "cell_type": "code",
   "execution_count": 115,
   "metadata": {
    "ExecuteTime": {
     "end_time": "2018-02-19T12:21:52.455328Z",
     "start_time": "2018-02-19T12:21:52.445589Z"
    }
   },
   "outputs": [
    {
     "data": {
      "text/plain": [
       "12.668573514388394"
      ]
     },
     "execution_count": 115,
     "metadata": {},
     "output_type": "execute_result"
    }
   ],
   "source": [
    "np.sqrt(4.4/(jpm.Cs*jpm.Lg) * (1+4.4))/2/np.pi / 1e9"
   ]
  },
  {
   "cell_type": "code",
   "execution_count": null,
   "metadata": {},
   "outputs": [],
   "source": []
  }
 ],
 "metadata": {
  "kernelspec": {
   "display_name": "Python 3",
   "language": "python",
   "name": "python3"
  },
  "language_info": {
   "codemirror_mode": {
    "name": "ipython",
    "version": 3
   },
   "file_extension": ".py",
   "mimetype": "text/x-python",
   "name": "python",
   "nbconvert_exporter": "python",
   "pygments_lexer": "ipython3",
   "version": "3.6.0"
  },
  "toc": {
   "nav_menu": {},
   "number_sections": false,
   "sideBar": true,
   "skip_h1_title": true,
   "toc_cell": true,
   "toc_position": {
    "height": "707px",
    "left": "0px",
    "right": "1285px",
    "top": "110px",
    "width": "155px"
   },
   "toc_section_display": "block",
   "toc_window_display": true
  },
  "varInspector": {
   "cols": {
    "lenName": 16,
    "lenType": 16,
    "lenVar": 40
   },
   "kernels_config": {
    "python": {
     "delete_cmd_postfix": "",
     "delete_cmd_prefix": "del ",
     "library": "var_list.py",
     "varRefreshCmd": "print(var_dic_list())"
    },
    "r": {
     "delete_cmd_postfix": ") ",
     "delete_cmd_prefix": "rm(",
     "library": "var_list.r",
     "varRefreshCmd": "cat(var_dic_list()) "
    }
   },
   "types_to_exclude": [
    "module",
    "function",
    "builtin_function_or_method",
    "instance",
    "_Feature"
   ],
   "window_display": false
  }
 },
 "nbformat": 4,
 "nbformat_minor": 2
}
