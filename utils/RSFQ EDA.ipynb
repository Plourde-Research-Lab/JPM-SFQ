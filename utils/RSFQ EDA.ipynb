{
 "cells": [
  {
   "cell_type": "code",
   "execution_count": 8,
   "metadata": {
    "ExecuteTime": {
     "end_time": "2018-11-07T21:32:58.533523Z",
     "start_time": "2018-11-07T21:32:58.530102Z"
    }
   },
   "outputs": [],
   "source": [
    "import numpy as np\n",
    "from scipy.constants import hbar, h, elementary_charge, pi"
   ]
  },
  {
   "cell_type": "code",
   "execution_count": 36,
   "metadata": {
    "ExecuteTime": {
     "end_time": "2018-11-07T21:38:08.885044Z",
     "start_time": "2018-11-07T21:38:08.880607Z"
    }
   },
   "outputs": [
    {
     "data": {
      "text/plain": [
       "2.067833831170082e-15"
      ]
     },
     "execution_count": 36,
     "metadata": {},
     "output_type": "execute_result"
    }
   ],
   "source": [
    "phi0 = h/(2*elementary_charge)\n",
    "phi0"
   ]
  },
  {
   "cell_type": "code",
   "execution_count": null,
   "metadata": {},
   "outputs": [],
   "source": [
    "class unitConverter:\n",
    "    \n",
    "    def __init__(self, iu=)"
   ]
  },
  {
   "cell_type": "code",
   "execution_count": null,
   "metadata": {},
   "outputs": [],
   "source": [
    "pparams = dict{\n",
    "    iu = 5e-6,\n",
    "    jc = 1e-6,\n",
    "    cc = 40e-15,\n",
    "    betac = 1\n",
    "}"
   ]
  },
  {
   "cell_type": "code",
   "execution_count": 171,
   "metadata": {
    "ExecuteTime": {
     "end_time": "2018-11-08T16:59:39.930646Z",
     "start_time": "2018-11-08T16:59:39.925849Z"
    }
   },
   "outputs": [
    {
     "data": {
      "text/plain": [
       "2.0000000000000004"
      ]
     },
     "execution_count": 171,
     "metadata": {},
     "output_type": "execute_result"
    }
   ],
   "source": [
    "(2 * elementary_charge / hbar) * j1.Ir * (j1.Rr**2) * j1.Cr"
   ]
  },
  {
   "cell_type": "code",
   "execution_count": 177,
   "metadata": {
    "ExecuteTime": {
     "end_time": "2018-11-08T16:59:49.099262Z",
     "start_time": "2018-11-08T16:59:49.094527Z"
    }
   },
   "outputs": [
    {
     "data": {
      "text/plain": [
       "2"
      ]
     },
     "execution_count": 177,
     "metadata": {},
     "output_type": "execute_result"
    }
   ],
   "source": [
    "j1.j"
   ]
  },
  {
   "cell_type": "code",
   "execution_count": null,
   "metadata": {},
   "outputs": [],
   "source": [
    "class unitConverter:\n",
    "    \n",
    "    def __init__(self,)"
   ]
  },
  {
   "cell_type": "code",
   "execution_count": 396,
   "metadata": {
    "ExecuteTime": {
     "end_time": "2018-11-08T21:30:22.477906Z",
     "start_time": "2018-11-08T21:30:22.405647Z"
    }
   },
   "outputs": [],
   "source": [
    "class JJ:\n",
    "    \n",
    "    def __init__(self, j = 2, iu = 5e-6, jc=1e-6, cc=40e-15, betac=1, sheetR=2, w=2):\n",
    "        \n",
    "        self.j = j\n",
    "        self.iu = iu\n",
    "        self.jc = jc\n",
    "        self.cc = cc\n",
    "        self.betac = betac\n",
    "        \n",
    "        # Physical params\n",
    "        self.sheetR = sheetR # Sheet Resistance (Ohm/square)\n",
    "        self.w = w           # Trace Width (um)\n",
    "        \n",
    "    @property\n",
    "    def area(self):\n",
    "        return self.j * self.iu / self.jc\n",
    "    \n",
    "    @property\n",
    "    def Ir(self):\n",
    "        return self.j * self.iu\n",
    "    \n",
    "    @property \n",
    "    def Cr(self):\n",
    "        return self.area * self.cc\n",
    "    \n",
    "    @property\n",
    "    def Rr(self):\n",
    "        return np.sqrt(hbar*self.betac)/np.sqrt(2*elementary_charge*self.jc*self.cc) / self.area\n",
    "    \n",
    "    @property\n",
    "    def RLen(self):\n",
    "        return self.Rr * self.w / self.sheetR\n",
    "    \n",
    "    def __str__(self):\n",
    "        return \"Ic={:.3f}uA, d={:.3f}um, R={:.3f}Ohm, RLen={:.3f}um, C={:.3f}fF\".format(self.Ir*1e6, 2*np.sqrt(self.area/pi), self.Rr, self.RLen, self.Cr*1e15)\n",
    "    \n",
    "    def __repr__(self):\n",
    "        return \"JJ:\\n\\t{}\".format(str(self))"
   ]
  },
  {
   "cell_type": "code",
   "execution_count": 397,
   "metadata": {
    "ExecuteTime": {
     "end_time": "2018-11-08T21:30:22.780349Z",
     "start_time": "2018-11-08T21:30:22.776086Z"
    }
   },
   "outputs": [
    {
     "data": {
      "text/plain": [
       "JJ:\n",
       "\tIc=10.000uA, d=3.568um, R=9.071Ohm, RLen=9.071um, C=400.000fF"
      ]
     },
     "execution_count": 397,
     "metadata": {},
     "output_type": "execute_result"
    }
   ],
   "source": [
    "j1 = JJ(j=2, betac=1, w=2)\n",
    "j1"
   ]
  },
  {
   "cell_type": "code",
   "execution_count": 398,
   "metadata": {
    "ExecuteTime": {
     "end_time": "2018-11-08T21:32:08.801242Z",
     "start_time": "2018-11-08T21:32:08.796428Z"
    }
   },
   "outputs": [
    {
     "data": {
      "text/plain": [
       "9.0706391136921862"
      ]
     },
     "execution_count": 398,
     "metadata": {},
     "output_type": "execute_result"
    }
   ],
   "source": [
    "j1.RLen"
   ]
  },
  {
   "cell_type": "code",
   "execution_count": 173,
   "metadata": {
    "ExecuteTime": {
     "end_time": "2018-11-08T16:59:44.897202Z",
     "start_time": "2018-11-08T16:59:44.892974Z"
    }
   },
   "outputs": [
    {
     "data": {
      "text/plain": [
       "1e-05"
      ]
     },
     "execution_count": 173,
     "metadata": {},
     "output_type": "execute_result"
    }
   ],
   "source": [
    "j1.Ir"
   ]
  },
  {
   "cell_type": "code",
   "execution_count": 174,
   "metadata": {
    "ExecuteTime": {
     "end_time": "2018-11-08T16:59:45.617075Z",
     "start_time": "2018-11-08T16:59:45.612654Z"
    }
   },
   "outputs": [
    {
     "data": {
      "text/plain": [
       "9.0706391136921862"
      ]
     },
     "execution_count": 174,
     "metadata": {},
     "output_type": "execute_result"
    }
   ],
   "source": [
    "j1.Rr"
   ]
  },
  {
   "cell_type": "code",
   "execution_count": 175,
   "metadata": {
    "ExecuteTime": {
     "end_time": "2018-11-08T16:59:46.056293Z",
     "start_time": "2018-11-08T16:59:46.052433Z"
    }
   },
   "outputs": [
    {
     "data": {
      "text/plain": [
       "4.0000000000000006e-13"
      ]
     },
     "execution_count": 175,
     "metadata": {},
     "output_type": "execute_result"
    }
   ],
   "source": [
    "j1.Cr"
   ]
  },
  {
   "cell_type": "code",
   "execution_count": 176,
   "metadata": {
    "ExecuteTime": {
     "end_time": "2018-11-08T16:59:46.440045Z",
     "start_time": "2018-11-08T16:59:46.435978Z"
    }
   },
   "outputs": [
    {
     "data": {
      "text/plain": [
       "10.000000000000002"
      ]
     },
     "execution_count": 176,
     "metadata": {},
     "output_type": "execute_result"
    }
   ],
   "source": [
    "j1.area"
   ]
  },
  {
   "cell_type": "markdown",
   "metadata": {},
   "source": [
    "# Standard JTL\n",
    "\n",
    "\n",
    "PSCAN Units\n",
    "- L = 1.5\n",
    "- J = 2\n",
    "- I = 3\n"
   ]
  },
  {
   "cell_type": "code",
   "execution_count": 379,
   "metadata": {
    "ExecuteTime": {
     "end_time": "2018-11-08T19:58:30.005937Z",
     "start_time": "2018-11-08T19:58:29.769682Z"
    },
    "code_folding": [
     27,
     31,
     39,
     43,
     47,
     52
    ]
   },
   "outputs": [],
   "source": [
    "class JTL:\n",
    "    \n",
    "    def __init__(self, iu = 5, jc = 1, cc = 40.5, betac = 1):\n",
    "        \n",
    "        ## Circuit params\n",
    "        self.iu = iu * 1e-6  # A\n",
    "        self.Jp = 2\n",
    "        self.Lp = 1.5\n",
    "        self.Ip = 3\n",
    "        self.betac = betac\n",
    "        \n",
    "        ## Physical params\n",
    "        self.sheetR = 2      # sheet resistance:          2Ohm/square\n",
    "        self.w  = 1          # trace width :               1um\n",
    "        self.Ll = 0.73e-12   # M2 Microstrip Inductance:  73pH/um at w=1um\n",
    "        self.jc = jc * 1e-6  # Critical Current Density:     A/um^2\n",
    "        self.cc = cc * 1e-15 # Junction Capacitance Density: F/um^2\n",
    "        \n",
    "        ## Netlist params\n",
    "        self.jjmodel = \"jjs\"\n",
    "    \n",
    "    @property\n",
    "    def vu(self):\n",
    "        return np.sqrt((phi0 * self.jc) / (2*pi*self.cc))\n",
    "    \n",
    "    @property\n",
    "    def lu(self):\n",
    "        return (phi0/(2*pi)) / self.iu\n",
    "    \n",
    "    @property\n",
    "    def ru(self):\n",
    "        return self.vu/self.iu\n",
    "    \n",
    "    @property\n",
    "    def Jr(self):\n",
    "        return self.Jp * self.iu\n",
    "    \n",
    "    @property\n",
    "    def Lr(self):\n",
    "        return self.Lp * self.lu\n",
    "    \n",
    "    @property\n",
    "    def Ir(self):\n",
    "        return self.Ip * self.iu\n",
    "    \n",
    "    @property\n",
    "    def Cr(self):\n",
    "        return self.cc * self.Jr / self.jc\n",
    "    \n",
    "    @property\n",
    "    def Rp(self):\n",
    "        \n",
    "        pass\n",
    "    \n",
    "    @property\n",
    "    def Rr(self):\n",
    "        \n",
    "        \n",
    "        # Calculate from betaC\n",
    "        return np.sqrt((2*pi*self.betac)/(phi0 * self.Jr * self.Cr))\n",
    "    \n",
    "    @property\n",
    "    def J1(self):\n",
    "        return JJ(j=self.Jp, iu=self.iu, jc=self.jc, cc=self.cc, betac=self.betac)\n",
    "    \n",
    "    @property\n",
    "    def LLen(self):\n",
    "        return self.Lr / self.Ll\n",
    "    \n",
    "    ###############\n",
    "    ### Methods ###\n",
    "    ###############\n",
    "    def netlist(self):\n",
    "    #         .subckt JTL IN OUT\n",
    "    #         B0 4 0 6 jjs area=4\n",
    "    #         B1 5 0 7 jjs area=4\n",
    "    #         I0 0 3 6u\n",
    "    #         LT0 IN 4 20.5p\n",
    "    #         LT1 4 3 20.5p\n",
    "    #         LT2 3 5 20.5p\n",
    "    #         LT3 5 OUT 20.5p\n",
    "    #         .ends JTL\n",
    "        nl = \".subckt JTL IN OUT\\n\"\n",
    "        nl += \"L1 IN 1 {:.3f}p\\n\".format(self.Lr/2*1e12)\n",
    "        nl += \"B1 1 0 {} area={:.3f}\\n\".format(self.jjmodel, self.J1.area)\n",
    "        nl += \"L2 1 2 {:.3f}p\\n\".format(self.Lr/2*1e12)\n",
    "        nl += \"I1 0 2 {:.3f}u\\n\".format(self.Ir*1e6)\n",
    "        nl += \"L3 2 3 {:.3f}p\\n\".format(self.Lr/2*1e12)\n",
    "        nl += \"B2 3 0 {} area={:.3f}\\n\".format(self.jjmodel, self.J1.area)\n",
    "        nl += \"L4 3 OUT {:.3f}p\\n\".format(self.Lr/2*1e12)\n",
    "        nl += \".ends JTL\\n\"\n",
    "        \n",
    "        return nl\n",
    "    def print_netlist(self):\n",
    "        print(self.netlist())\n",
    "        \n",
    "    def __str__(self):\n",
    "        return \"JTL - Real Units J={:.3f}uA, L={:.3f}pH, I={:.3f}uA\".format(self.Jr*1e6, self.Lr*1e12, self.Ir*1e6)\n",
    "        \n",
    "    def __repr__(self):\n",
    "        ret = \"JTL:\\n\"\n",
    "        ret += \"\\tJ1 - {}\\n\".format(str(self.J1))\n",
    "        ret += \"\\tL1 - L={:.3f}pH, LLen={:.3f}um\\n\".format(self.Lr*1e12, self.LLen)\n",
    "        ret += \"\\tI1 - I={:.3f}uA\".format(self.Ir*1e6)\n",
    "        return ret"
   ]
  },
  {
   "cell_type": "code",
   "execution_count": 383,
   "metadata": {
    "ExecuteTime": {
     "end_time": "2018-11-08T19:58:37.170695Z",
     "start_time": "2018-11-08T19:58:37.167339Z"
    }
   },
   "outputs": [
    {
     "name": "stdout",
     "output_type": "stream",
     "text": [
      "JTL - Real Units J=10.000uA, L=98.732pH, I=15.000uA\n"
     ]
    }
   ],
   "source": [
    "j = JTL(iu=5)\n",
    "print(j)"
   ]
  },
  {
   "cell_type": "code",
   "execution_count": 384,
   "metadata": {
    "ExecuteTime": {
     "end_time": "2018-11-08T19:58:37.417684Z",
     "start_time": "2018-11-08T19:58:37.413698Z"
    }
   },
   "outputs": [
    {
     "data": {
      "text/plain": [
       "JTL:\n",
       "\tJ1 - Ic=10.000uA, d=3.568um, R=9.014Ohm, RLen=9.014um, C=405.000fF\n",
       "\tL1 - L=98.732pH, LLen=135.249um\n",
       "\tI1 - I=15.000uA"
      ]
     },
     "execution_count": 384,
     "metadata": {},
     "output_type": "execute_result"
    }
   ],
   "source": [
    "j"
   ]
  },
  {
   "cell_type": "code",
   "execution_count": 385,
   "metadata": {
    "ExecuteTime": {
     "end_time": "2018-11-08T19:58:37.719940Z",
     "start_time": "2018-11-08T19:58:37.716977Z"
    }
   },
   "outputs": [
    {
     "name": "stdout",
     "output_type": "stream",
     "text": [
      ".subckt JTL IN OUT\n",
      "L1 IN 1 49.366p\n",
      "B1 1 0 jjs area=10.000\n",
      "L2 1 2 49.366p\n",
      "I1 0 2 15.000u\n",
      "L3 2 3 49.366p\n",
      "B2 3 0 jjs area=10.000\n",
      "L4 3 OUT 49.366p\n",
      ".ends JTL\n",
      "\n"
     ]
    }
   ],
   "source": [
    "j.print_netlist()"
   ]
  },
  {
   "cell_type": "code",
   "execution_count": 393,
   "metadata": {
    "ExecuteTime": {
     "end_time": "2018-11-08T21:14:00.460190Z",
     "start_time": "2018-11-08T21:14:00.457718Z"
    }
   },
   "outputs": [],
   "source": [
    "import math"
   ]
  },
  {
   "cell_type": "code",
   "execution_count": 395,
   "metadata": {
    "ExecuteTime": {
     "end_time": "2018-11-08T21:15:08.153763Z",
     "start_time": "2018-11-08T21:15:08.150148Z"
    }
   },
   "outputs": [
    {
     "data": {
      "text/plain": [
       "5.23"
      ]
     },
     "execution_count": 395,
     "metadata": {},
     "output_type": "execute_result"
    }
   ],
   "source": [
    "round(5.23452345, 2)"
   ]
  },
  {
   "cell_type": "code",
   "execution_count": 399,
   "metadata": {
    "ExecuteTime": {
     "end_time": "2018-11-09T20:25:47.499251Z",
     "start_time": "2018-11-09T20:25:47.492448Z"
    }
   },
   "outputs": [
    {
     "ename": "SyntaxError",
     "evalue": "invalid syntax (<ipython-input-399-70f614b42f6e>, line 1)",
     "output_type": "error",
     "traceback": [
      "\u001b[0;36m  File \u001b[0;32m\"<ipython-input-399-70f614b42f6e>\"\u001b[0;36m, line \u001b[0;32m1\u001b[0m\n\u001b[0;31m    0.iseven()\u001b[0m\n\u001b[0m           ^\u001b[0m\n\u001b[0;31mSyntaxError\u001b[0m\u001b[0;31m:\u001b[0m invalid syntax\n"
     ]
    }
   ],
   "source": []
  },
  {
   "cell_type": "code",
   "execution_count": null,
   "metadata": {},
   "outputs": [],
   "source": []
  }
 ],
 "metadata": {
  "kernelspec": {
   "display_name": "Python [conda env:caleb]",
   "language": "python",
   "name": "conda-env-caleb-py"
  },
  "language_info": {
   "codemirror_mode": {
    "name": "ipython",
    "version": 3
   },
   "file_extension": ".py",
   "mimetype": "text/x-python",
   "name": "python",
   "nbconvert_exporter": "python",
   "pygments_lexer": "ipython3",
   "version": "3.6.3"
  },
  "toc": {
   "nav_menu": {},
   "number_sections": true,
   "sideBar": true,
   "skip_h1_title": true,
   "toc_cell": false,
   "toc_position": {},
   "toc_section_display": "block",
   "toc_window_display": true
  },
  "varInspector": {
   "cols": {
    "lenName": 16,
    "lenType": 16,
    "lenVar": 40
   },
   "kernels_config": {
    "python": {
     "delete_cmd_postfix": "",
     "delete_cmd_prefix": "del ",
     "library": "var_list.py",
     "varRefreshCmd": "print(var_dic_list())"
    },
    "r": {
     "delete_cmd_postfix": ") ",
     "delete_cmd_prefix": "rm(",
     "library": "var_list.r",
     "varRefreshCmd": "cat(var_dic_list()) "
    }
   },
   "types_to_exclude": [
    "module",
    "function",
    "builtin_function_or_method",
    "instance",
    "_Feature"
   ],
   "window_display": false
  }
 },
 "nbformat": 4,
 "nbformat_minor": 2
}
