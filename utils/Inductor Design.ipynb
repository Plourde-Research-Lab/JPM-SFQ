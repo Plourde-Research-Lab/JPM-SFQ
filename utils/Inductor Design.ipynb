{
 "cells": [
  {
   "cell_type": "code",
   "execution_count": 3,
   "metadata": {
    "ExecuteTime": {
     "end_time": "2018-10-06T22:47:38.199924Z",
     "start_time": "2018-10-06T22:47:38.196650Z"
    }
   },
   "outputs": [],
   "source": [
    "import numpy as np\n",
    "from scipy.constants import mu_0"
   ]
  },
  {
   "cell_type": "code",
   "execution_count": 87,
   "metadata": {
    "ExecuteTime": {
     "end_time": "2018-10-07T00:31:11.535445Z",
     "start_time": "2018-10-07T00:31:11.398672Z"
    }
   },
   "outputs": [],
   "source": [
    "class Spiral:\n",
    "    \n",
    "    def __init__(self, n=3, w=2, s=2, dout=42):\n",
    "    \n",
    "        self.n = n\n",
    "        self.w = w*1e-6\n",
    "        self.s = s*1e-6\n",
    "\n",
    "        self.dout = dout*1e-6\n",
    "        \n",
    "        self.xpts = []\n",
    "        self.ypts = []\n",
    "        \n",
    "    @property\n",
    "    def din(self):\n",
    "        return self.dout - 2* (self.n*self.w + (self.n - 1)*self.s)\n",
    "    \n",
    "    @property\n",
    "    def davg(self):\n",
    "        return 0.5*(self.din + self.dout)\n",
    "    \n",
    "    @property\n",
    "    def fill_ratio(self):\n",
    "        return (self.dout - self.din)/(self.dout + self.din)\n",
    "    \n",
    "    @property\n",
    "    def L(self):\n",
    "        return 2.34 * mu_0 * (self.n**2 * self.davg)/(1 + 2.75*self.fill_ratio)\n",
    "    \n",
    "    def points(self):\n",
    "        \n",
    "        self.xpts = []\n",
    "        self.ypts = []\n",
    "        \n",
    "        for i in np.arange(self.n):\n",
    "\n",
    "            # Top left\n",
    "            self.xpts.append(-1*((self.din/2 - self.s) + i*(self.s + self.w)))\n",
    "            self.ypts.append((self.din/2 + self.w/2) + i*(self.s + self.w))\n",
    "            \n",
    "            # Top right\n",
    "            self.xpts.append((self.din/2) + i*(self.s + self.w))\n",
    "            self.ypts.append((self.din/2 + self.w/2) + i*(self.s + self.w))\n",
    "\n",
    "            # Bottom right\n",
    "            self.xpts.append((self.din/2) + i*(self.s + self.w))\n",
    "            self.ypts.append(-1*((self.din/2 + self.w/2) + i*(self.s + self.w)))\n",
    "            \n",
    "            # Bottom left\n",
    "            self.xpts.append(-1*((self.din/2 + i*(self.s + self.w) + self.s)))\n",
    "            self.ypts.append(-1*((self.din/2 + self.w/2) + i*(self.s + self.w)))\n",
    "            \n",
    "        # Last point\n",
    "        self.xpts.append(-1*((self.din/2 + i*(self.s + self.w) + self.s)))\n",
    "        self.ypts.append((self.din/2 + self.w/2) + i*(self.s + self.w))\n",
    "\n",
    "            \n",
    "    def __repr__(self):\n",
    "        \n",
    "        self.points()\n",
    "        string = \"\"\n",
    "        for i in np.arange(len(self.xpts)):\n",
    "            string = string + \"{}\\t{}\\n\".format(self.xpts[i]*1e6, self.ypts[i]*1e6)\n",
    "            \n",
    "        return string"
   ]
  },
  {
   "cell_type": "code",
   "execution_count": 88,
   "metadata": {
    "ExecuteTime": {
     "end_time": "2018-10-07T00:31:14.750926Z",
     "start_time": "2018-10-07T00:31:14.748282Z"
    }
   },
   "outputs": [],
   "source": [
    "l1 = Spiral()"
   ]
  },
  {
   "cell_type": "code",
   "execution_count": 89,
   "metadata": {
    "ExecuteTime": {
     "end_time": "2018-10-07T00:31:14.827542Z",
     "start_time": "2018-10-07T00:31:14.824220Z"
    }
   },
   "outputs": [
    {
     "data": {
      "text/plain": [
       "2.2e-05"
      ]
     },
     "execution_count": 89,
     "metadata": {},
     "output_type": "execute_result"
    }
   ],
   "source": [
    "l1.din"
   ]
  },
  {
   "cell_type": "code",
   "execution_count": 90,
   "metadata": {
    "ExecuteTime": {
     "end_time": "2018-10-07T00:31:14.955329Z",
     "start_time": "2018-10-07T00:31:14.951913Z"
    }
   },
   "outputs": [
    {
     "data": {
      "text/plain": [
       "-9.0\t12.0\n",
       "11.0\t12.0\n",
       "11.0\t-12.0\n",
       "-13.0\t-12.0\n",
       "-13.000000000000002\t16.0\n",
       "14.999999999999998\t16.0\n",
       "14.999999999999998\t-16.0\n",
       "-17.0\t-16.0\n",
       "-17.0\t20.0\n",
       "19.0\t20.0\n",
       "19.0\t-20.0\n",
       "-21.000000000000004\t-20.0\n",
       "-21.000000000000004\t20.0"
      ]
     },
     "execution_count": 90,
     "metadata": {},
     "output_type": "execute_result"
    }
   ],
   "source": [
    "l1"
   ]
  },
  {
   "cell_type": "code",
   "execution_count": 91,
   "metadata": {
    "ExecuteTime": {
     "end_time": "2018-10-07T00:36:11.505838Z",
     "start_time": "2018-10-07T00:36:11.501898Z"
    }
   },
   "outputs": [
    {
     "data": {
      "text/plain": [
       "4.554610277339931e-10"
      ]
     },
     "execution_count": 91,
     "metadata": {},
     "output_type": "execute_result"
    }
   ],
   "source": [
    "l1.L"
   ]
  },
  {
   "cell_type": "code",
   "execution_count": 92,
   "metadata": {
    "ExecuteTime": {
     "end_time": "2018-10-07T01:55:06.486309Z",
     "start_time": "2018-10-07T01:55:06.481992Z"
    }
   },
   "outputs": [
    {
     "data": {
      "text/plain": [
       "1.2566370614359173e-06"
      ]
     },
     "execution_count": 92,
     "metadata": {},
     "output_type": "execute_result"
    }
   ],
   "source": [
    "mu_0"
   ]
  },
  {
   "cell_type": "code",
   "execution_count": null,
   "metadata": {},
   "outputs": [],
   "source": []
  }
 ],
 "metadata": {
  "kernelspec": {
   "display_name": "Python [conda env:caleb]",
   "language": "python",
   "name": "conda-env-caleb-py"
  },
  "language_info": {
   "codemirror_mode": {
    "name": "ipython",
    "version": 3
   },
   "file_extension": ".py",
   "mimetype": "text/x-python",
   "name": "python",
   "nbconvert_exporter": "python",
   "pygments_lexer": "ipython3",
   "version": "3.6.3"
  },
  "toc": {
   "nav_menu": {},
   "number_sections": true,
   "sideBar": true,
   "skip_h1_title": true,
   "toc_cell": false,
   "toc_position": {},
   "toc_section_display": "block",
   "toc_window_display": true
  },
  "varInspector": {
   "cols": {
    "lenName": 16,
    "lenType": 16,
    "lenVar": 40
   },
   "kernels_config": {
    "python": {
     "delete_cmd_postfix": "",
     "delete_cmd_prefix": "del ",
     "library": "var_list.py",
     "varRefreshCmd": "print(var_dic_list())"
    },
    "r": {
     "delete_cmd_postfix": ") ",
     "delete_cmd_prefix": "rm(",
     "library": "var_list.r",
     "varRefreshCmd": "cat(var_dic_list()) "
    }
   },
   "types_to_exclude": [
    "module",
    "function",
    "builtin_function_or_method",
    "instance",
    "_Feature"
   ],
   "window_display": false
  }
 },
 "nbformat": 4,
 "nbformat_minor": 2
}
