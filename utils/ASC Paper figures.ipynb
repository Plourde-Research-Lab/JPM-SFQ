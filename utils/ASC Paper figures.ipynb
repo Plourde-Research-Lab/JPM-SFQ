{
 "cells": [
  {
   "cell_type": "code",
   "execution_count": 79,
   "metadata": {
    "ExecuteTime": {
     "end_time": "2018-10-24T18:08:07.040292Z",
     "start_time": "2018-10-24T18:08:07.035879Z"
    }
   },
   "outputs": [],
   "source": [
    "import sys\n",
    "sys.path.append('/mnt/labshare/Programs/python/HelperFunctions/')\n",
    "\n",
    "from myfunctions import *\n",
    "from plottingFunctions import *\n",
    "import peakutils"
   ]
  },
  {
   "cell_type": "code",
   "execution_count": 5,
   "metadata": {
    "ExecuteTime": {
     "end_time": "2018-10-24T16:47:06.182147Z",
     "start_time": "2018-10-24T16:47:06.170333Z"
    }
   },
   "outputs": [
    {
     "data": {
      "text/plain": [
       "['JTL',\n",
       " 'JTL.bak',\n",
       " 'JTL0',\n",
       " 'JTL1',\n",
       " 'bias.sweep',\n",
       " 'bjtl5',\n",
       " 'bjtl5.bak',\n",
       " 'mutual.sweep',\n",
       " 'panic.14828',\n",
       " 'root',\n",
       " 'root.bak',\n",
       " 'root.cir',\n",
       " 'root.cir.bak',\n",
       " 'ujtl',\n",
       " 'xic_panic.log']"
      ]
     },
     "execution_count": 5,
     "metadata": {},
     "output_type": "execute_result"
    }
   ],
   "source": [
    "simdir = 'RaceArbiterV3/xic/'\n",
    "listdir(simdir)"
   ]
  },
  {
   "cell_type": "markdown",
   "metadata": {},
   "source": [
    "## Bias Sweep"
   ]
  },
  {
   "cell_type": "code",
   "execution_count": 159,
   "metadata": {
    "ExecuteTime": {
     "end_time": "2018-10-24T21:27:54.879683Z",
     "start_time": "2018-10-24T21:27:54.872542Z"
    }
   },
   "outputs": [
    {
     "name": "stdout",
     "output_type": "stream",
     "text": [
      ".control\n",
      "source -c root.cir\n",
      "set k1=0.063\n",
      "set value1=ic\n",
      "sweep 0 -1.5u -0.25u tran 1p 3n\n",
      "*plot v(12) v(13)\n",
      "write bias.dat v(1) v(15)\n",
      ".endc\n",
      "\n"
     ]
    }
   ],
   "source": [
    "sweepfile = path.join(simdir, 'bias.sweep')\n",
    "datafile = path.join(simdir, 'bias.dat')\n",
    "\n",
    "with open(sweepfile) as f:\n",
    "    sweep = f.read()\n",
    "    \n",
    "print(sweep)"
   ]
  },
  {
   "cell_type": "code",
   "execution_count": 162,
   "metadata": {
    "ExecuteTime": {
     "end_time": "2018-10-24T21:28:13.878139Z",
     "start_time": "2018-10-24T21:28:13.721512Z"
    },
    "collapsed": true
   },
   "outputs": [
    {
     "data": {
      "text/plain": [
       "{'Command': 'version 4.3.1',\n",
       " 'Date': 'Wed Oct 24 17:20:02 2018',\n",
       " 'Dimensions': array([   7, 3001]),\n",
       " 'Flags': 'real',\n",
       " 'No. Points': 21007.0,\n",
       " 'No. Variables': 3.0,\n",
       " 'Plotname': 'Transient analysis',\n",
       " 'Title': 'CKT1',\n",
       " 'Variables': '',\n",
       " 'dataNames': ['time', 'v(1)', 'v(15)'],\n",
       " 'dataUnits': ['S', 'V', 'V'],\n",
       " 'time': array([[  0.00000000e+00,   1.00000000e-12,   2.00000000e-12, ...,\n",
       "           2.99800000e-09,   2.99900000e-09,   3.00000000e-09],\n",
       "        [  0.00000000e+00,   1.00000000e-12,   2.00000000e-12, ...,\n",
       "           2.99800000e-09,   2.99900000e-09,   3.00000000e-09],\n",
       "        [  0.00000000e+00,   1.00000000e-12,   2.00000000e-12, ...,\n",
       "           2.99800000e-09,   2.99900000e-09,   3.00000000e-09],\n",
       "        ..., \n",
       "        [  0.00000000e+00,   1.00000000e-12,   2.00000000e-12, ...,\n",
       "           2.99800000e-09,   2.99900000e-09,   3.00000000e-09],\n",
       "        [  0.00000000e+00,   1.00000000e-12,   2.00000000e-12, ...,\n",
       "           2.99800000e-09,   2.99900000e-09,   3.00000000e-09],\n",
       "        [  0.00000000e+00,   1.00000000e-12,   2.00000000e-12, ...,\n",
       "           2.99800000e-09,   2.99900000e-09,   3.00000000e-09]]),\n",
       " 'v(1)': array([[  6.24443059e-07,   1.56653413e-05,   2.57601510e-05, ...,\n",
       "          -6.59446908e-21,  -6.59446908e-21,  -6.87437949e-21],\n",
       "        [  6.22526952e-07,   1.56653413e-05,   2.57601510e-05, ...,\n",
       "          -3.02035270e-21,  -3.80332821e-21,  -2.00943400e-21],\n",
       "        [  6.20610846e-07,   1.56653413e-05,   2.57601510e-05, ...,\n",
       "           2.17896350e-21,  -5.53755960e-21,  -1.95655416e-20],\n",
       "        ..., \n",
       "        [  6.16778632e-07,   1.56653413e-05,   2.57601510e-05, ...,\n",
       "           4.74612749e-14,   4.74312910e-14,   4.74013465e-14],\n",
       "        [  6.14862525e-07,   1.56653413e-05,   2.57601510e-05, ...,\n",
       "          -9.67178004e-19,  -9.63775703e-19,  -9.57700470e-19],\n",
       "        [  6.12946418e-07,   1.56653413e-05,   2.57601510e-05, ...,\n",
       "           7.13095823e-14,   7.11217145e-14,   7.09342927e-14]]),\n",
       " 'v(15)': array([[  6.29758524e-07,   1.58309259e-05,   2.66485433e-05, ...,\n",
       "           0.00000000e+00,   0.00000000e+00,   0.00000000e+00],\n",
       "        [  6.28124639e-07,   1.58309259e-05,   2.66485433e-05, ...,\n",
       "           1.82572437e-21,   1.82572437e-21,   2.11713847e-21],\n",
       "        [  6.26490754e-07,   1.58309259e-05,   2.66485433e-05, ...,\n",
       "          -8.89396181e-20,  -8.71157177e-20,  -8.25684002e-20],\n",
       "        ..., \n",
       "        [  6.23222984e-07,   1.58309259e-05,   2.66485433e-05, ...,\n",
       "           1.33827905e-12,   1.33743589e-12,   1.33659374e-12],\n",
       "        [  6.21589099e-07,   1.58309259e-05,   2.66485433e-05, ...,\n",
       "          -2.64628287e-17,  -2.62861182e-17,  -2.61132070e-17],\n",
       "        [  6.19955214e-07,   1.58309259e-05,   2.66485433e-05, ...,\n",
       "           3.17491176e-15,   3.16653795e-15,   3.15818514e-15]])}"
      ]
     },
     "execution_count": 162,
     "metadata": {},
     "output_type": "execute_result"
    }
   ],
   "source": [
    "biasdata = getWRData(datafile)\n",
    "biasdata"
   ]
  },
  {
   "cell_type": "code",
   "execution_count": 169,
   "metadata": {
    "ExecuteTime": {
     "end_time": "2018-10-24T21:29:38.237021Z",
     "start_time": "2018-10-24T21:29:38.165200Z"
    }
   },
   "outputs": [
    {
     "data": {
      "application/vnd.plotly.v1+json": {
       "data": [
        {
         "line": {
          "width": 1
         },
         "mode": "markers",
         "type": "scatter",
         "x": [
          0,
          0.25,
          0.5,
          0.75,
          1
         ],
         "y": [
          0,
          0,
          0,
          0,
          0
         ]
        }
       ],
       "layout": {
        "font": {
         "family": "Computer Modern"
        },
        "title": "",
        "xaxis": {
         "mirror": "ticks",
         "showline": true,
         "tickfont": {
          "size": 16
         },
         "ticks": "inside",
         "title": "Bias Current (uA)",
         "titlefont": {
          "size": 22
         },
         "zeroline": false
        },
        "yaxis": {
         "mirror": "ticks",
         "showline": true,
         "tickfont": {
          "size": 16
         },
         "ticks": "inside",
         "title": "Pulse Separation (ps)",
         "titlefont": {
          "size": 22
         },
         "zeroline": false
        }
       }
      },
      "text/html": [
       "<div id=\"1be7ac6d-e401-4286-8470-1be2d2dc2cbb\" style=\"height: 525px; width: 100%;\" class=\"plotly-graph-div\"></div><script type=\"text/javascript\">require([\"plotly\"], function(Plotly) { window.PLOTLYENV=window.PLOTLYENV || {};window.PLOTLYENV.BASE_URL=\"https://plot.ly\";Plotly.newPlot(\"1be7ac6d-e401-4286-8470-1be2d2dc2cbb\", [{\"type\": \"scatter\", \"line\": {\"width\": 1}, \"mode\": \"markers\", \"x\": [0.0, 0.25, 0.5, 0.75, 1.0], \"y\": [0.0, 0.0, 0.0, 0.0, 0.0]}], {\"title\": \"\", \"yaxis\": {\"titlefont\": {\"size\": 22}, \"title\": \"Pulse Separation (ps)\", \"tickfont\": {\"size\": 16}, \"ticks\": \"inside\", \"mirror\": \"ticks\", \"zeroline\": false, \"showline\": true}, \"xaxis\": {\"titlefont\": {\"size\": 22}, \"title\": \"Bias Current (uA)\", \"tickfont\": {\"size\": 16}, \"ticks\": \"inside\", \"mirror\": \"ticks\", \"zeroline\": false, \"showline\": true}, \"font\": {\"family\": \"Computer Modern\"}}, {\"showLink\": true, \"linkText\": \"Export to plot.ly\"})});</script>"
      ],
      "text/vnd.plotly.v1+html": [
       "<div id=\"1be7ac6d-e401-4286-8470-1be2d2dc2cbb\" style=\"height: 525px; width: 100%;\" class=\"plotly-graph-div\"></div><script type=\"text/javascript\">require([\"plotly\"], function(Plotly) { window.PLOTLYENV=window.PLOTLYENV || {};window.PLOTLYENV.BASE_URL=\"https://plot.ly\";Plotly.newPlot(\"1be7ac6d-e401-4286-8470-1be2d2dc2cbb\", [{\"type\": \"scatter\", \"line\": {\"width\": 1}, \"mode\": \"markers\", \"x\": [0.0, 0.25, 0.5, 0.75, 1.0], \"y\": [0.0, 0.0, 0.0, 0.0, 0.0]}], {\"title\": \"\", \"yaxis\": {\"titlefont\": {\"size\": 22}, \"title\": \"Pulse Separation (ps)\", \"tickfont\": {\"size\": 16}, \"ticks\": \"inside\", \"mirror\": \"ticks\", \"zeroline\": false, \"showline\": true}, \"xaxis\": {\"titlefont\": {\"size\": 22}, \"title\": \"Bias Current (uA)\", \"tickfont\": {\"size\": 16}, \"ticks\": \"inside\", \"mirror\": \"ticks\", \"zeroline\": false, \"showline\": true}, \"font\": {\"family\": \"Computer Modern\"}}, {\"showLink\": true, \"linkText\": \"Export to plot.ly\"})});</script>"
      ]
     },
     "metadata": {},
     "output_type": "display_data"
    }
   ],
   "source": [
    "biasseps = []\n",
    "\n",
    "for i in range(7):   \n",
    "    t = biasdata['time'][i]\n",
    "    v1 = biasdata['v(1)'][i]\n",
    "    v2 = biasdata['v(15)'][i]\n",
    "    diff = t[peakutils.indexes(v2)[0]] - t[peakutils.indexes(v1)[0]]\n",
    "    biasseps.append(diff)\n",
    "    \n",
    "l = dict(xaxis=dict(title=\"Bias Current (uA)\"), yaxis=dict(title=\"Pulse Separation (ps)\"))\n",
    "ic = -2\n",
    "biast = np.linspace(0, 1.5, 7)\n",
    "l, tr = LinePlot(x=biast[:ic], y=biasseps[:ic], layoutOpts=l, show=False);\n",
    "tr.update(mode='markers')\n",
    "iplot(go.Figure(data=[tr], layout=l))"
   ]
  },
  {
   "cell_type": "code",
   "execution_count": 139,
   "metadata": {
    "ExecuteTime": {
     "end_time": "2018-10-24T19:19:25.603299Z",
     "start_time": "2018-10-24T19:19:25.572750Z"
    }
   },
   "outputs": [
    {
     "ename": "TypeError",
     "evalue": "Mismatch between array dtype ('object') and format specifier ('%.18e')",
     "output_type": "error",
     "traceback": [
      "\u001b[0;31m---------------------------------------------------------------------------\u001b[0m",
      "\u001b[0;31mTypeError\u001b[0m                                 Traceback (most recent call last)",
      "\u001b[0;32m~/.conda/envs/caleb/lib/python3.6/site-packages/numpy/lib/npyio.py\u001b[0m in \u001b[0;36msavetxt\u001b[0;34m(fname, X, fmt, delimiter, newline, header, footer, comments)\u001b[0m\n\u001b[1;32m   1253\u001b[0m                 \u001b[0;32mtry\u001b[0m\u001b[0;34m:\u001b[0m\u001b[0;34m\u001b[0m\u001b[0m\n\u001b[0;32m-> 1254\u001b[0;31m                     \u001b[0mfh\u001b[0m\u001b[0;34m.\u001b[0m\u001b[0mwrite\u001b[0m\u001b[0;34m(\u001b[0m\u001b[0masbytes\u001b[0m\u001b[0;34m(\u001b[0m\u001b[0mformat\u001b[0m \u001b[0;34m%\u001b[0m \u001b[0mtuple\u001b[0m\u001b[0;34m(\u001b[0m\u001b[0mrow\u001b[0m\u001b[0;34m)\u001b[0m \u001b[0;34m+\u001b[0m \u001b[0mnewline\u001b[0m\u001b[0;34m)\u001b[0m\u001b[0;34m)\u001b[0m\u001b[0;34m\u001b[0m\u001b[0m\n\u001b[0m\u001b[1;32m   1255\u001b[0m                 \u001b[0;32mexcept\u001b[0m \u001b[0mTypeError\u001b[0m\u001b[0;34m:\u001b[0m\u001b[0;34m\u001b[0m\u001b[0m\n",
      "\u001b[0;31mTypeError\u001b[0m: only length-1 arrays can be converted to Python scalars",
      "\nDuring handling of the above exception, another exception occurred:\n",
      "\u001b[0;31mTypeError\u001b[0m                                 Traceback (most recent call last)",
      "\u001b[0;32m<ipython-input-139-d573f49c9935>\u001b[0m in \u001b[0;36m<module>\u001b[0;34m()\u001b[0m\n\u001b[0;32m----> 1\u001b[0;31m \u001b[0mnp\u001b[0m\u001b[0;34m.\u001b[0m\u001b[0msavetxt\u001b[0m\u001b[0;34m(\u001b[0m\u001b[0mpath\u001b[0m\u001b[0;34m.\u001b[0m\u001b[0mjoin\u001b[0m\u001b[0;34m(\u001b[0m\u001b[0msimdir\u001b[0m\u001b[0;34m,\u001b[0m \u001b[0;34m'bias.csv'\u001b[0m\u001b[0;34m)\u001b[0m\u001b[0;34m,\u001b[0m \u001b[0mnp\u001b[0m\u001b[0;34m.\u001b[0m\u001b[0marray\u001b[0m\u001b[0;34m(\u001b[0m\u001b[0;34m[\u001b[0m\u001b[0mnp\u001b[0m\u001b[0;34m.\u001b[0m\u001b[0mlinspace\u001b[0m\u001b[0;34m(\u001b[0m\u001b[0;36m0\u001b[0m\u001b[0;34m,\u001b[0m \u001b[0;36m2\u001b[0m\u001b[0;34m,\u001b[0m \u001b[0;36m9\u001b[0m\u001b[0;34m)\u001b[0m\u001b[0;34m,\u001b[0m \u001b[0mseps\u001b[0m\u001b[0;34m]\u001b[0m\u001b[0;34m)\u001b[0m\u001b[0;34m.\u001b[0m\u001b[0mT\u001b[0m\u001b[0;34m)\u001b[0m\u001b[0;34m\u001b[0m\u001b[0m\n\u001b[0m",
      "\u001b[0;32m~/.conda/envs/caleb/lib/python3.6/site-packages/numpy/lib/npyio.py\u001b[0m in \u001b[0;36msavetxt\u001b[0;34m(fname, X, fmt, delimiter, newline, header, footer, comments)\u001b[0m\n\u001b[1;32m   1256\u001b[0m                     raise TypeError(\"Mismatch between array dtype ('%s') and \"\n\u001b[1;32m   1257\u001b[0m                                     \u001b[0;34m\"format specifier ('%s')\"\u001b[0m\u001b[0;34m\u001b[0m\u001b[0m\n\u001b[0;32m-> 1258\u001b[0;31m                                     % (str(X.dtype), format))\n\u001b[0m\u001b[1;32m   1259\u001b[0m         \u001b[0;32mif\u001b[0m \u001b[0mlen\u001b[0m\u001b[0;34m(\u001b[0m\u001b[0mfooter\u001b[0m\u001b[0;34m)\u001b[0m \u001b[0;34m>\u001b[0m \u001b[0;36m0\u001b[0m\u001b[0;34m:\u001b[0m\u001b[0;34m\u001b[0m\u001b[0m\n\u001b[1;32m   1260\u001b[0m             \u001b[0mfooter\u001b[0m \u001b[0;34m=\u001b[0m \u001b[0mfooter\u001b[0m\u001b[0;34m.\u001b[0m\u001b[0mreplace\u001b[0m\u001b[0;34m(\u001b[0m\u001b[0;34m'\\n'\u001b[0m\u001b[0;34m,\u001b[0m \u001b[0;34m'\\n'\u001b[0m \u001b[0;34m+\u001b[0m \u001b[0mcomments\u001b[0m\u001b[0;34m)\u001b[0m\u001b[0;34m\u001b[0m\u001b[0m\n",
      "\u001b[0;31mTypeError\u001b[0m: Mismatch between array dtype ('object') and format specifier ('%.18e')"
     ]
    }
   ],
   "source": [
    "np.savetxt(path.join(simdir, 'bias.csv'), np.array([np.linspace(0, 2, 9), seps]).T)"
   ]
  },
  {
   "cell_type": "markdown",
   "metadata": {},
   "source": [
    "## Mutual Sweep"
   ]
  },
  {
   "cell_type": "code",
   "execution_count": 170,
   "metadata": {
    "ExecuteTime": {
     "end_time": "2018-10-24T21:29:44.367814Z",
     "start_time": "2018-10-24T21:29:44.362435Z"
    }
   },
   "outputs": [
    {
     "name": "stdout",
     "output_type": "stream",
     "text": [
      ".control\n",
      "source -c root.cir\n",
      "set ic=0\n",
      "set value1=k1\n",
      "sweep .01 .1 .01 tran 1p 3n\n",
      "*plot v(12) v(13)\n",
      "write mutual.dat v(1) v(15)\n",
      ".endc\n",
      "\n"
     ]
    }
   ],
   "source": [
    "sweepfile = path.join(simdir, 'mutual.sweep')\n",
    "\n",
    "with open(sweepfile) as f:\n",
    "    sweep = f.read()\n",
    "    \n",
    "print(sweep)"
   ]
  },
  {
   "cell_type": "code",
   "execution_count": 171,
   "metadata": {
    "ExecuteTime": {
     "end_time": "2018-10-24T21:29:44.924460Z",
     "start_time": "2018-10-24T21:29:44.921626Z"
    }
   },
   "outputs": [],
   "source": [
    "datafile = path.join(simdir, 'mutual.dat')"
   ]
  },
  {
   "cell_type": "code",
   "execution_count": 172,
   "metadata": {
    "ExecuteTime": {
     "end_time": "2018-10-24T21:29:47.581355Z",
     "start_time": "2018-10-24T21:29:47.410073Z"
    }
   },
   "outputs": [
    {
     "data": {
      "text/plain": [
       "{'Command': 'version 4.3.1',\n",
       " 'Date': 'Wed Oct 24 17:19:16 2018',\n",
       " 'Dimensions': array([  10, 3001]),\n",
       " 'Flags': 'real',\n",
       " 'No. Points': 30010.0,\n",
       " 'No. Variables': 3.0,\n",
       " 'Plotname': 'Transient analysis',\n",
       " 'Title': 'CKT1',\n",
       " 'Variables': '',\n",
       " 'dataNames': ['time', 'v(1)', 'v(15)'],\n",
       " 'dataUnits': ['S', 'V', 'V'],\n",
       " 'time': array([[  0.00000000e+00,   1.00000000e-12,   2.00000000e-12, ...,\n",
       "           2.99800000e-09,   2.99900000e-09,   3.00000000e-09],\n",
       "        [  0.00000000e+00,   1.00000000e-12,   2.00000000e-12, ...,\n",
       "           2.99800000e-09,   2.99900000e-09,   3.00000000e-09],\n",
       "        [  0.00000000e+00,   1.00000000e-12,   2.00000000e-12, ...,\n",
       "           2.99800000e-09,   2.99900000e-09,   3.00000000e-09],\n",
       "        ..., \n",
       "        [  0.00000000e+00,   1.00000000e-12,   2.00000000e-12, ...,\n",
       "           2.99800000e-09,   2.99900000e-09,   3.00000000e-09],\n",
       "        [  0.00000000e+00,   1.00000000e-12,   2.00000000e-12, ...,\n",
       "           2.99800000e-09,   2.99900000e-09,   3.00000000e-09],\n",
       "        [  0.00000000e+00,   1.00000000e-12,   2.00000000e-12, ...,\n",
       "           2.99800000e-09,   2.99900000e-09,   3.00000000e-09]]),\n",
       " 'v(1)': array([[  6.24443059e-07,   1.56668605e-05,   2.57627484e-05, ...,\n",
       "          -7.59832947e-21,  -5.80605460e-21,  -4.74596711e-21],\n",
       "        [  6.24443059e-07,   1.56667309e-05,   2.57625243e-05, ...,\n",
       "           1.68272658e-20,   1.68272658e-20,   1.66042705e-20],\n",
       "        [  6.24443059e-07,   1.56665193e-05,   2.57621592e-05, ...,\n",
       "          -8.86842390e-21,  -8.86842390e-21,  -9.94141034e-21],\n",
       "        ..., \n",
       "        [  6.24443059e-07,   1.56645594e-05,   2.57588512e-05, ...,\n",
       "           6.82186457e-21,   7.33905003e-21,   9.30685223e-21],\n",
       "        [  6.24443059e-07,   1.56640944e-05,   2.57580995e-05, ...,\n",
       "           3.90579137e-22,  -1.29747104e-21,  -2.11519369e-21],\n",
       "        [  6.24443059e-07,   1.56636564e-05,   2.57574159e-05, ...,\n",
       "          -6.17178405e-21,  -7.08045732e-21,  -7.29741823e-21]]),\n",
       " 'v(15)': array([[  6.29758524e-07,   1.58322014e-05,   2.66508182e-05, ...,\n",
       "          -1.83434009e-21,  -1.31284006e-21,   4.23427656e-22],\n",
       "        [  6.29758524e-07,   1.58320919e-05,   2.66506220e-05, ...,\n",
       "          -1.82572441e-21,  -1.82572441e-21,  -1.69371077e-21],\n",
       "        [  6.29758524e-07,   1.58319134e-05,   2.66503022e-05, ...,\n",
       "           1.82572441e-21,   1.82572441e-21,   8.46855387e-22],\n",
       "        ..., \n",
       "        [  6.29758524e-07,   1.58302790e-05,   2.66474042e-05, ...,\n",
       "           1.82572440e-21,   1.82572440e-21,   2.02366849e-31],\n",
       "        [  6.29758524e-07,   1.58298997e-05,   2.66467450e-05, ...,\n",
       "           8.08687301e-21,   4.43907200e-21,   1.27028308e-21],\n",
       "        [  6.29758524e-07,   1.58295489e-05,   2.66461452e-05, ...,\n",
       "           1.82572440e-21,   1.82572440e-21,   1.69371077e-21]])}"
      ]
     },
     "execution_count": 172,
     "metadata": {},
     "output_type": "execute_result"
    }
   ],
   "source": [
    "mutualdata = getWRData(datafile)\n",
    "mutualdata"
   ]
  },
  {
   "cell_type": "code",
   "execution_count": 177,
   "metadata": {
    "ExecuteTime": {
     "end_time": "2018-10-24T21:30:55.023706Z",
     "start_time": "2018-10-24T21:30:55.003896Z"
    }
   },
   "outputs": [
    {
     "ename": "IndexError",
     "evalue": "invalid index to scalar variable.",
     "output_type": "error",
     "traceback": [
      "\u001b[0;31m---------------------------------------------------------------------------\u001b[0m",
      "\u001b[0;31mIndexError\u001b[0m                                Traceback (most recent call last)",
      "\u001b[0;32m<ipython-input-177-2c2e31d73aaf>\u001b[0m in \u001b[0;36m<module>\u001b[0;34m()\u001b[0m\n\u001b[1;32m      5\u001b[0m     \u001b[0mv2\u001b[0m \u001b[0;34m=\u001b[0m \u001b[0mmutualdata\u001b[0m\u001b[0;34m[\u001b[0m\u001b[0;34m'v(15)'\u001b[0m\u001b[0;34m]\u001b[0m\u001b[0;34m[\u001b[0m\u001b[0mi\u001b[0m\u001b[0;34m]\u001b[0m\u001b[0;34m\u001b[0m\u001b[0m\n\u001b[1;32m      6\u001b[0m     \u001b[0mdiff\u001b[0m \u001b[0;34m=\u001b[0m \u001b[0mt\u001b[0m\u001b[0;34m[\u001b[0m\u001b[0mpeakutils\u001b[0m\u001b[0;34m.\u001b[0m\u001b[0mindexes\u001b[0m\u001b[0;34m(\u001b[0m\u001b[0mv2\u001b[0m\u001b[0;34m)\u001b[0m\u001b[0;34m]\u001b[0m\u001b[0;34m[\u001b[0m\u001b[0;36m1\u001b[0m\u001b[0;34m]\u001b[0m \u001b[0;34m-\u001b[0m \u001b[0mt\u001b[0m\u001b[0;34m[\u001b[0m\u001b[0mpeakutils\u001b[0m\u001b[0;34m.\u001b[0m\u001b[0mindexes\u001b[0m\u001b[0;34m(\u001b[0m\u001b[0mv1\u001b[0m\u001b[0;34m)\u001b[0m\u001b[0;34m]\u001b[0m\u001b[0;34m[\u001b[0m\u001b[0;36m1\u001b[0m\u001b[0;34m]\u001b[0m\u001b[0;34m\u001b[0m\u001b[0m\n\u001b[0;32m----> 7\u001b[0;31m     \u001b[0mmutualseps\u001b[0m\u001b[0;34m.\u001b[0m\u001b[0mappend\u001b[0m\u001b[0;34m(\u001b[0m\u001b[0mdiff\u001b[0m\u001b[0;34m[\u001b[0m\u001b[0;36m1\u001b[0m\u001b[0;34m]\u001b[0m\u001b[0;34m)\u001b[0m\u001b[0;34m\u001b[0m\u001b[0m\n\u001b[0m\u001b[1;32m      8\u001b[0m \u001b[0;34m\u001b[0m\u001b[0m\n\u001b[1;32m      9\u001b[0m \u001b[0mmutualt\u001b[0m \u001b[0;34m=\u001b[0m \u001b[0mnp\u001b[0m\u001b[0;34m.\u001b[0m\u001b[0mlinspace\u001b[0m\u001b[0;34m(\u001b[0m\u001b[0;36m0.01\u001b[0m\u001b[0;34m,\u001b[0m \u001b[0;36m.1\u001b[0m\u001b[0;34m,\u001b[0m \u001b[0;36m10\u001b[0m\u001b[0;34m)\u001b[0m\u001b[0;34m\u001b[0m\u001b[0m\n",
      "\u001b[0;31mIndexError\u001b[0m: invalid index to scalar variable."
     ]
    }
   ],
   "source": [
    "mutualseps = []\n",
    "\n",
    "for i in range(10):    \n",
    "    v1 = mutualdata['v(1)'][i]\n",
    "    v2 = mutualdata['v(15)'][i]\n",
    "    diff = t[peakutils.indexes(v2)][1] - t[peakutils.indexes(v1)][1]\n",
    "    mutualseps.append(diff[1])\n",
    "    \n",
    "mutualt = np.linspace(0.01, .1, 10)\n",
    "l = dict(xaxis=dict(title=\"Coupling Constant k\"), yaxis=dict(title=\"Pulse Separation (ps)\"))\n",
    "LinePlot(x=mutualt, y=mutualseps, layoutOpts=l);"
   ]
  },
  {
   "cell_type": "code",
   "execution_count": 158,
   "metadata": {
    "ExecuteTime": {
     "end_time": "2018-10-24T19:22:59.081659Z",
     "start_time": "2018-10-24T19:22:59.066611Z"
    }
   },
   "outputs": [
    {
     "ename": "TypeError",
     "evalue": "Mismatch between array dtype ('object') and format specifier ('%.18e')",
     "output_type": "error",
     "traceback": [
      "\u001b[0;31m---------------------------------------------------------------------------\u001b[0m",
      "\u001b[0;31mTypeError\u001b[0m                                 Traceback (most recent call last)",
      "\u001b[0;32m~/.conda/envs/caleb/lib/python3.6/site-packages/numpy/lib/npyio.py\u001b[0m in \u001b[0;36msavetxt\u001b[0;34m(fname, X, fmt, delimiter, newline, header, footer, comments)\u001b[0m\n\u001b[1;32m   1253\u001b[0m                 \u001b[0;32mtry\u001b[0m\u001b[0;34m:\u001b[0m\u001b[0;34m\u001b[0m\u001b[0m\n\u001b[0;32m-> 1254\u001b[0;31m                     \u001b[0mfh\u001b[0m\u001b[0;34m.\u001b[0m\u001b[0mwrite\u001b[0m\u001b[0;34m(\u001b[0m\u001b[0masbytes\u001b[0m\u001b[0;34m(\u001b[0m\u001b[0mformat\u001b[0m \u001b[0;34m%\u001b[0m \u001b[0mtuple\u001b[0m\u001b[0;34m(\u001b[0m\u001b[0mrow\u001b[0m\u001b[0;34m)\u001b[0m \u001b[0;34m+\u001b[0m \u001b[0mnewline\u001b[0m\u001b[0;34m)\u001b[0m\u001b[0;34m)\u001b[0m\u001b[0;34m\u001b[0m\u001b[0m\n\u001b[0m\u001b[1;32m   1255\u001b[0m                 \u001b[0;32mexcept\u001b[0m \u001b[0mTypeError\u001b[0m\u001b[0;34m:\u001b[0m\u001b[0;34m\u001b[0m\u001b[0m\n",
      "\u001b[0;31mTypeError\u001b[0m: only length-1 arrays can be converted to Python scalars",
      "\nDuring handling of the above exception, another exception occurred:\n",
      "\u001b[0;31mTypeError\u001b[0m                                 Traceback (most recent call last)",
      "\u001b[0;32m<ipython-input-158-cbc230bcb69a>\u001b[0m in \u001b[0;36m<module>\u001b[0;34m()\u001b[0m\n\u001b[0;32m----> 1\u001b[0;31m \u001b[0mnp\u001b[0m\u001b[0;34m.\u001b[0m\u001b[0msavetxt\u001b[0m\u001b[0;34m(\u001b[0m\u001b[0mpath\u001b[0m\u001b[0;34m.\u001b[0m\u001b[0mjoin\u001b[0m\u001b[0;34m(\u001b[0m\u001b[0msimdir\u001b[0m\u001b[0;34m,\u001b[0m \u001b[0;34m'data.csv'\u001b[0m\u001b[0;34m)\u001b[0m\u001b[0;34m,\u001b[0m \u001b[0mnp\u001b[0m\u001b[0;34m.\u001b[0m\u001b[0marray\u001b[0m\u001b[0;34m(\u001b[0m\u001b[0;34m[\u001b[0m\u001b[0mmutualt\u001b[0m\u001b[0;34m,\u001b[0m \u001b[0mmutualseps\u001b[0m\u001b[0;34m,\u001b[0m \u001b[0mbiast\u001b[0m\u001b[0;34m,\u001b[0m \u001b[0mbiasseps\u001b[0m\u001b[0;34m]\u001b[0m\u001b[0;34m)\u001b[0m\u001b[0;34m.\u001b[0m\u001b[0mT\u001b[0m\u001b[0;34m)\u001b[0m\u001b[0;34m\u001b[0m\u001b[0m\n\u001b[0m",
      "\u001b[0;32m~/.conda/envs/caleb/lib/python3.6/site-packages/numpy/lib/npyio.py\u001b[0m in \u001b[0;36msavetxt\u001b[0;34m(fname, X, fmt, delimiter, newline, header, footer, comments)\u001b[0m\n\u001b[1;32m   1256\u001b[0m                     raise TypeError(\"Mismatch between array dtype ('%s') and \"\n\u001b[1;32m   1257\u001b[0m                                     \u001b[0;34m\"format specifier ('%s')\"\u001b[0m\u001b[0;34m\u001b[0m\u001b[0m\n\u001b[0;32m-> 1258\u001b[0;31m                                     % (str(X.dtype), format))\n\u001b[0m\u001b[1;32m   1259\u001b[0m         \u001b[0;32mif\u001b[0m \u001b[0mlen\u001b[0m\u001b[0;34m(\u001b[0m\u001b[0mfooter\u001b[0m\u001b[0;34m)\u001b[0m \u001b[0;34m>\u001b[0m \u001b[0;36m0\u001b[0m\u001b[0;34m:\u001b[0m\u001b[0;34m\u001b[0m\u001b[0m\n\u001b[1;32m   1260\u001b[0m             \u001b[0mfooter\u001b[0m \u001b[0;34m=\u001b[0m \u001b[0mfooter\u001b[0m\u001b[0;34m.\u001b[0m\u001b[0mreplace\u001b[0m\u001b[0;34m(\u001b[0m\u001b[0;34m'\\n'\u001b[0m\u001b[0;34m,\u001b[0m \u001b[0;34m'\\n'\u001b[0m \u001b[0;34m+\u001b[0m \u001b[0mcomments\u001b[0m\u001b[0;34m)\u001b[0m\u001b[0;34m\u001b[0m\u001b[0m\n",
      "\u001b[0;31mTypeError\u001b[0m: Mismatch between array dtype ('object') and format specifier ('%.18e')"
     ]
    }
   ],
   "source": [
    "np.savetxt(path.join(simdir, 'data.csv'), np.array([mutualt, mutualseps, biast, biasseps]).T)"
   ]
  },
  {
   "cell_type": "code",
   "execution_count": 155,
   "metadata": {
    "ExecuteTime": {
     "end_time": "2018-10-24T19:22:20.711876Z",
     "start_time": "2018-10-24T19:22:20.706839Z"
    }
   },
   "outputs": [
    {
     "data": {
      "text/plain": [
       "array([ array([ 0.01,  0.02,  0.03,  0.04,  0.05,  0.06,  0.07,  0.08,  0.09,  0.1 ]),\n",
       "       list([4.4999999999995192e-11, 8.9999999999992865e-11, 1.3699999999999219e-10, 1.8599999999999109e-10, 2.3899999999998811e-10, 2.9599999999998512e-10, 3.5899999999998108e-10, 4.2999999999997494e-10, 5.139999999999701e-10, 6.1399999999996107e-10]),\n",
       "       array([ 0.  ,  0.25,  0.5 ,  0.75,  1.  ,  1.25,  1.5 ,  1.75,  2.  ]),\n",
       "       list([4.8000000000005004e-11, 6.7000000000006076e-11, 9.7000000000010108e-11, 1.5900000000001589e-10, 3.1399999999998403e-10, 1.1929999999998721e-09, 3.5860000000005085e-09, -1.3000000000003988e-11, -8.0000000000024539e-12])], dtype=object)"
      ]
     },
     "execution_count": 155,
     "metadata": {},
     "output_type": "execute_result"
    }
   ],
   "source": [
    "np.array([mutualt, mutualseps, biast, biasseps]).T"
   ]
  },
  {
   "cell_type": "code",
   "execution_count": null,
   "metadata": {},
   "outputs": [],
   "source": []
  }
 ],
 "metadata": {
  "kernelspec": {
   "display_name": "Python [conda env:caleb]",
   "language": "python",
   "name": "conda-env-caleb-py"
  },
  "language_info": {
   "codemirror_mode": {
    "name": "ipython",
    "version": 3
   },
   "file_extension": ".py",
   "mimetype": "text/x-python",
   "name": "python",
   "nbconvert_exporter": "python",
   "pygments_lexer": "ipython3",
   "version": "3.6.3"
  },
  "toc": {
   "nav_menu": {},
   "number_sections": true,
   "sideBar": true,
   "skip_h1_title": true,
   "toc_cell": false,
   "toc_position": {},
   "toc_section_display": "block",
   "toc_window_display": true
  },
  "varInspector": {
   "cols": {
    "lenName": 16,
    "lenType": 16,
    "lenVar": 40
   },
   "kernels_config": {
    "python": {
     "delete_cmd_postfix": "",
     "delete_cmd_prefix": "del ",
     "library": "var_list.py",
     "varRefreshCmd": "print(var_dic_list())"
    },
    "r": {
     "delete_cmd_postfix": ") ",
     "delete_cmd_prefix": "rm(",
     "library": "var_list.r",
     "varRefreshCmd": "cat(var_dic_list()) "
    }
   },
   "types_to_exclude": [
    "module",
    "function",
    "builtin_function_or_method",
    "instance",
    "_Feature"
   ],
   "window_display": false
  }
 },
 "nbformat": 4,
 "nbformat_minor": 2
}
